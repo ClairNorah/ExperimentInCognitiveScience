{
 "cells": [
  {
   "cell_type": "code",
   "execution_count": null,
   "metadata": {},
   "outputs": [],
   "source": [
    "# Importing libraries needed for the project\n",
    "import pandas as pd\n",
    "import numpy as np\n",
    "#from scipy.stats import pearsonr\n",
    "#from scipy.stats import linregress\n",
    "#import matplotlib.pyplot as plt\n",
    "#import plotly.express as px\n",
    "#from math import ceil #The math.ceil() method rounds a number UP to the nearest integer, if necessary, and returns the result.\n",
    "#from urllib.request import urlopen\n",
    "import json\n",
    "#from matplotlib.ticker import MaxNLocator\n",
    "#import seaborn as sns\n",
    "#from matplotlib.colors import LinearSegmentedColormap\n",
    "import warnings\n",
    "warnings.simplefilter(action='ignore', category=FutureWarning) # https://stackoverflow.com/questions/15777951/how-to-suppress-pandas-future-warning"
   ]
  },
  {
   "cell_type": "code",
   "execution_count": null,
   "metadata": {},
   "outputs": [],
   "source": [
    "focusareas = set(['WEAPON LAWS', 'PROSTITUTION', 'DRIVING UNDER THE INFLUENCE', 'ROBBERY', 'BURGLARY', 'ASSAULT', 'DRUNKENNESS', 'DRUG/NARCOTIC', 'TRESPASS', 'LARCENY/THEFT', 'VANDALISM', 'VEHICLE THEFT', 'STOLEN PROPERTY', 'DISORDERLY CONDUCT'])"
   ]
  },
  {
   "cell_type": "code",
   "execution_count": null,
   "metadata": {},
   "outputs": [],
   "source": [
    "# Load the Excel file into a DataFrame\n",
    "df = pd.read_excel(\"./Per_Question_Time_Report_4142128-2.xls\")\n",
    "\n",
    "# Save the DataFrame as a CSV file\n",
    "df.to_csv(\"./Per_Question_Time_Report_4142128-2.csv\", index=False)\n",
    "\n",
    "# Display the first few rows (optional, just to check the data)\n",
    "df.head()\n"
   ]
  }
 ],
 "metadata": {
  "language_info": {
   "name": "python"
  }
 },
 "nbformat": 4,
 "nbformat_minor": 2
}
